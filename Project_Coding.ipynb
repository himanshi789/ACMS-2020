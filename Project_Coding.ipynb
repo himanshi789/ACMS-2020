{
 "cells": [
  {
   "cell_type": "markdown",
   "metadata": {},
   "source": [
    "# Twitter analysis for Last Mile Delivery"
   ]
  },
  {
   "cell_type": "code",
   "execution_count": 1,
   "metadata": {
    "scrolled": true
   },
   "outputs": [
    {
     "name": "stderr",
     "output_type": "stream",
     "text": [
      "[nltk_data] Downloading package stopwords to\n",
      "[nltk_data]     C:\\Users\\guh\\AppData\\Roaming\\nltk_data...\n",
      "[nltk_data]   Package stopwords is already up-to-date!\n"
     ]
    }
   ],
   "source": [
    "import numpy as np \n",
    "import pandas as pd \n",
    "import re  \n",
    "import nltk \n",
    "%matplotlib inline\n",
    "nltk.download('stopwords')  \n",
    "from nltk.corpus import stopwords \n",
    "import seaborn as sns\n",
    "from textblob import TextBlob, Word, Blobber"
   ]
  },
  {
   "cell_type": "code",
   "execution_count": 2,
   "metadata": {},
   "outputs": [
    {
     "data": {
      "text/html": [
       "<div>\n",
       "<style scoped>\n",
       "    .dataframe tbody tr th:only-of-type {\n",
       "        vertical-align: middle;\n",
       "    }\n",
       "\n",
       "    .dataframe tbody tr th {\n",
       "        vertical-align: top;\n",
       "    }\n",
       "\n",
       "    .dataframe thead th {\n",
       "        text-align: right;\n",
       "    }\n",
       "</style>\n",
       "<table border=\"1\" class=\"dataframe\">\n",
       "  <thead>\n",
       "    <tr style=\"text-align: right;\">\n",
       "      <th></th>\n",
       "      <th>Unnamed: 0</th>\n",
       "      <th>ttext</th>\n",
       "      <th>date</th>\n",
       "      <th>isretweet</th>\n",
       "      <th>retweetcount</th>\n",
       "      <th>favoritecount</th>\n",
       "      <th>score</th>\n",
       "      <th>city</th>\n",
       "      <th>country</th>\n",
       "      <th>duplicate</th>\n",
       "    </tr>\n",
       "  </thead>\n",
       "  <tbody>\n",
       "    <tr>\n",
       "      <td>0</td>\n",
       "      <td>1</td>\n",
       "      <td>AhmedBaba_: Make no mistake about what this is...</td>\n",
       "      <td>2020-04-24 17:28:54</td>\n",
       "      <td>True</td>\n",
       "      <td>158</td>\n",
       "      <td>0</td>\n",
       "      <td>-1</td>\n",
       "      <td>Delhi NCR</td>\n",
       "      <td>India</td>\n",
       "      <td>False</td>\n",
       "    </tr>\n",
       "    <tr>\n",
       "      <td>1</td>\n",
       "      <td>2</td>\n",
       "      <td>AhmedBaba_: Make no mistake about what this is...</td>\n",
       "      <td>2020-04-24 17:28:53</td>\n",
       "      <td>True</td>\n",
       "      <td>158</td>\n",
       "      <td>0</td>\n",
       "      <td>-1</td>\n",
       "      <td>Delhi NCR</td>\n",
       "      <td>India</td>\n",
       "      <td>True</td>\n",
       "    </tr>\n",
       "    <tr>\n",
       "      <td>2</td>\n",
       "      <td>3</td>\n",
       "      <td>AhmedBaba_: In the Oval Office, President Trum...</td>\n",
       "      <td>2020-04-24 17:28:51</td>\n",
       "      <td>True</td>\n",
       "      <td>73</td>\n",
       "      <td>0</td>\n",
       "      <td>-1</td>\n",
       "      <td>Delhi NCR</td>\n",
       "      <td>India</td>\n",
       "      <td>False</td>\n",
       "    </tr>\n",
       "    <tr>\n",
       "      <td>3</td>\n",
       "      <td>4</td>\n",
       "      <td>AhmedBaba_: In the Oval Office, President Trum...</td>\n",
       "      <td>2020-04-24 17:28:45</td>\n",
       "      <td>True</td>\n",
       "      <td>73</td>\n",
       "      <td>0</td>\n",
       "      <td>-1</td>\n",
       "      <td>Delhi NCR</td>\n",
       "      <td>India</td>\n",
       "      <td>True</td>\n",
       "    </tr>\n",
       "    <tr>\n",
       "      <td>4</td>\n",
       "      <td>5</td>\n",
       "      <td>AhmedBaba_: In the Oval Office, President Trum...</td>\n",
       "      <td>2020-04-24 17:28:07</td>\n",
       "      <td>True</td>\n",
       "      <td>73</td>\n",
       "      <td>0</td>\n",
       "      <td>-1</td>\n",
       "      <td>Delhi NCR</td>\n",
       "      <td>India</td>\n",
       "      <td>True</td>\n",
       "    </tr>\n",
       "  </tbody>\n",
       "</table>\n",
       "</div>"
      ],
      "text/plain": [
       "   Unnamed: 0                                              ttext  \\\n",
       "0           1  AhmedBaba_: Make no mistake about what this is...   \n",
       "1           2  AhmedBaba_: Make no mistake about what this is...   \n",
       "2           3  AhmedBaba_: In the Oval Office, President Trum...   \n",
       "3           4  AhmedBaba_: In the Oval Office, President Trum...   \n",
       "4           5  AhmedBaba_: In the Oval Office, President Trum...   \n",
       "\n",
       "                  date  isretweet  retweetcount  favoritecount  score  \\\n",
       "0  2020-04-24 17:28:54       True           158              0     -1   \n",
       "1  2020-04-24 17:28:53       True           158              0     -1   \n",
       "2  2020-04-24 17:28:51       True            73              0     -1   \n",
       "3  2020-04-24 17:28:45       True            73              0     -1   \n",
       "4  2020-04-24 17:28:07       True            73              0     -1   \n",
       "\n",
       "        city country  duplicate  \n",
       "0  Delhi NCR   India      False  \n",
       "1  Delhi NCR   India       True  \n",
       "2  Delhi NCR   India      False  \n",
       "3  Delhi NCR   India       True  \n",
       "4  Delhi NCR   India       True  "
      ]
     },
     "execution_count": 2,
     "metadata": {},
     "output_type": "execute_result"
    }
   ],
   "source": [
    "data=pd.read_csv('tweets.csv')\n",
    "data.head()"
   ]
  },
  {
   "cell_type": "code",
   "execution_count": 3,
   "metadata": {},
   "outputs": [
    {
     "name": "stdout",
     "output_type": "stream",
     "text": [
      "                                                  ttext sentiments\n",
      "0                            @MrBeastYT Amazon delivery    neutral\n",
      "1     RT @B16_A1: Thank the lord for Amazon essentia...    neutral\n",
      "2      Thank the lord for Amazon essential delivery..      neutral\n",
      "3     Ordered a cheap table and chairs for our balco...   positive\n",
      "4     @PeachyKeenGreat @ADAMWTF1 @shaunking @amazon ...   positive\n",
      "...                                                 ...        ...\n",
      "9995  RT @DBLTAPesports: No one: \\n\\nAmazon Prime De...    neutral\n",
      "9996  RT @DBLTAPesports: No one: \\n\\nAmazon Prime De...    neutral\n",
      "9997  RT @DBLTAPesports: No one: \\n\\nAmazon Prime De...    neutral\n",
      "9998  @r_aguc @MrPuli Like saravana stores they have...    neutral\n",
      "9999  RT @DBLTAPesports: No one: \\n\\nAmazon Prime De...    neutral\n",
      "\n",
      "[10000 rows x 2 columns]\n"
     ]
    }
   ],
   "source": [
    "# CLEANING OF DATASET\n",
    "def clean_tweet(tweet): \n",
    "        ''' \n",
    "        Utility function to clean tweet text by removing links, special characters \n",
    "        using simple regex statements. \n",
    "        '''\n",
    "        return ' '.join(re.sub(\"(@[A-Za-z0-9]+)|([^0-9A-Za-z \\t])|(\\w+:\\/\\/\\S+)\", \" \", tweet).split()) \n",
    "\n",
    "# CATEGORISE THE DATA AS PER THEIR SENTIMENTS    \n",
    "def get_tweet_sentiment( tweet): \n",
    "        # create TextBlob object of passed tweet text \n",
    "        analysis = TextBlob(clean_tweet(tweet))\n",
    "        # set sentiment \n",
    "        if analysis.sentiment.polarity > 0: \n",
    "            return 'positive'\n",
    "        elif analysis.sentiment.polarity == 0: \n",
    "            return 'neutral'\n",
    "        else: \n",
    "            return 'negative'\n",
    "\n",
    "# READ THE DATASET\n",
    "data=pd.read_csv('Global10000_4May.csv')\n",
    "\n",
    "data1=pd.DataFrame(data['ttext'])\n",
    "df=data['ttext']\n",
    "data1['sentiments']= [get_tweet_sentiment(t)for t in df]\n",
    "print(data1) # displays a cleaned dataset"
   ]
  },
  {
   "cell_type": "code",
   "execution_count": 6,
   "metadata": {},
   "outputs": [],
   "source": [
    "\n",
    "X = data.iloc[:,1].values  \n",
    "y = data1.iloc[:,-1].values\n",
    "\n",
    "processed_tweets = []\n",
    " \n",
    "for tweet in range(0, len(X)):  \n",
    "    # Remove all the special characters\n",
    "    processed_tweet = re.sub(r'\\W', ' ', str(X[tweet]))\n",
    " \n",
    "    # remove all single characters\n",
    "    processed_tweet = re.sub(r'\\s+[a-zA-Z]\\s+', ' ', processed_tweet)\n",
    " \n",
    "    # Remove single characters from the start\n",
    "    processed_tweet = re.sub(r'\\^[a-zA-Z]\\s+', ' ', processed_tweet) \n",
    " \n",
    "    # Substituting multiple spaces with single space\n",
    "    processed_tweet= re.sub(r'\\s+', ' ', processed_tweet, flags=re.I)\n",
    " \n",
    "    # Removing prefixed 'b'\n",
    "    processed_tweet = re.sub(r'^b\\s+', '', processed_tweet)\n",
    " \n",
    "    # Converting to Lowercase\n",
    "    processed_tweet = processed_tweet.lower()\n",
    " \n",
    "    processed_tweets.append(processed_tweet)\n",
    "    \n",
    "    \n",
    "#print(processed_tweets) "
   ]
  },
  {
   "cell_type": "code",
   "execution_count": 7,
   "metadata": {},
   "outputs": [],
   "source": [
    "from sklearn.feature_extraction.text import TfidfVectorizer  \n",
    "tfidfconverter = TfidfVectorizer(max_features=2000, min_df=5, max_df=0.7, stop_words=stopwords.words('english'))  \n",
    "X = tfidfconverter.fit_transform(processed_tweets).toarray()\n",
    "\n",
    "from sklearn.model_selection import train_test_split  \n",
    "X_train, X_test, y_train, y_test = train_test_split(X, y, test_size=0.2, random_state=0)\n",
    " \n",
    " \n",
    "from sklearn.ensemble import RandomForestClassifier\n",
    "text_classifier = RandomForestClassifier(n_estimators=100, random_state=0)  \n",
    "text_classifier.fit(X_train, y_train)\n",
    " \n",
    " \n",
    "predictions = text_classifier.predict(X_test)\n",
    " \n",
    "from sklearn.metrics import classification_report, confusion_matrix, accuracy_score "
   ]
  },
  {
   "cell_type": "code",
   "execution_count": 8,
   "metadata": {},
   "outputs": [
    {
     "name": "stdout",
     "output_type": "stream",
     "text": [
      "[[ 155   29   15]\n",
      " [   2 1469   12]\n",
      " [  12   53  253]]\n"
     ]
    }
   ],
   "source": [
    "print(confusion_matrix(y_test,predictions))  "
   ]
  },
  {
   "cell_type": "code",
   "execution_count": 9,
   "metadata": {},
   "outputs": [
    {
     "name": "stdout",
     "output_type": "stream",
     "text": [
      "              precision    recall  f1-score   support\n",
      "\n",
      "    negative       0.92      0.78      0.84       199\n",
      "     neutral       0.95      0.99      0.97      1483\n",
      "    positive       0.90      0.80      0.85       318\n",
      "\n",
      "    accuracy                           0.94      2000\n",
      "   macro avg       0.92      0.86      0.89      2000\n",
      "weighted avg       0.94      0.94      0.94      2000\n",
      "\n"
     ]
    }
   ],
   "source": [
    "print(classification_report(y_test,predictions)) "
   ]
  },
  {
   "cell_type": "code",
   "execution_count": 10,
   "metadata": {},
   "outputs": [
    {
     "name": "stdout",
     "output_type": "stream",
     "text": [
      "0.9385\n"
     ]
    }
   ],
   "source": [
    "print(accuracy_score(y_test, predictions))"
   ]
  },
  {
   "cell_type": "code",
   "execution_count": 11,
   "metadata": {},
   "outputs": [
    {
     "name": "stdout",
     "output_type": "stream",
     "text": [
      "Total records:  5000\n",
      "Positive:  2047\n",
      "Negative:  953\n",
      "Neutral:  2000\n"
     ]
    },
    {
     "data": {
      "text/plain": [
       "<matplotlib.axes._subplots.AxesSubplot at 0x25a3d165108>"
      ]
     },
     "execution_count": 11,
     "metadata": {},
     "output_type": "execute_result"
    },
    {
     "data": {
      "image/png": "[encoded data removed]",
      "text/plain": [
       "<Figure size 432x288 with 1 Axes>"
      ]
     },
     "metadata": {
      "needs_background": "light"
     },
     "output_type": "display_data"
    }
   ],
   "source": [
    "data=pd.read_csv('tweets.csv')\n",
    "data1=pd.DataFrame(data['ttext'])\n",
    "df=data['ttext']\n",
    "data1['sentiments']= [get_tweet_sentiment(t)for t in df]\n",
    "n_records = len(data1.index)\n",
    "n_sent_pos = len(data1[data1['sentiments'] == 'positive'])\n",
    "n_sent_neg = len(data1[data1['sentiments'] == 'negative'])\n",
    "n_sent_neu = len(data1[data1['sentiments'] == 'neutral'])\n",
    "print(\"Total records: \",n_records)\n",
    "print(\"Positive: \",n_sent_pos)\n",
    "print(\"Negative: \",n_sent_neg)\n",
    "print(\"Neutral: \",n_sent_neu)\n",
    "sns.countplot(x='sentiments', data=data1)"
   ]
  },
  {
   "cell_type": "code",
   "execution_count": 12,
   "metadata": {},
   "outputs": [
    {
     "name": "stdout",
     "output_type": "stream",
     "text": [
      "Global total records:  10000\n",
      "Global  positive:  1521\n",
      "Global negative:  1135\n",
      "Global neutral:  7344\n"
     ]
    },
    {
     "data": {
      "text/plain": [
       "<matplotlib.axes._subplots.AxesSubplot at 0x25a3cdb11c8>"
      ]
     },
     "execution_count": 12,
     "metadata": {},
     "output_type": "execute_result"
    },
    {
     "data": {
      "image/png": "[encoded data removed]",
      "text/plain": [
       "<Figure size 432x288 with 1 Axes>"
      ]
     },
     "metadata": {
      "needs_background": "light"
     },
     "output_type": "display_data"
    }
   ],
   "source": [
    "data=pd.read_csv('Global10000_4May.csv')\n",
    "data1=pd.DataFrame(data['ttext'])\n",
    "df=data['ttext']\n",
    "data1['sentiments']= [get_tweet_sentiment(t)for t in df]\n",
    "n_records = len(data1.index)\n",
    "n_sent_pos = len(data1[data1['sentiments'] == 'positive'])\n",
    "n_sent_neg = len(data1[data1['sentiments'] == 'negative'])\n",
    "n_sent_neu = len(data1[data1['sentiments'] == 'neutral'])\n",
    "print(\"Global total records: \",n_records)\n",
    "print(\"Global  positive: \",n_sent_pos)\n",
    "print(\"Global negative: \",n_sent_neg)\n",
    "print(\"Global neutral: \",n_sent_neu)\n",
    "sns.countplot(x='sentiments', data=data1)"
   ]
  },
  {
   "cell_type": "code",
   "execution_count": 13,
   "metadata": {},
   "outputs": [
    {
     "name": "stdout",
     "output_type": "stream",
     "text": [
      "DELHI total records:  141\n",
      "DELHI  positive:  26\n",
      "DELHI negative:  50\n",
      "DELHI neutral:  65\n"
     ]
    }
   ],
   "source": [
    "data=pd.read_csv('delhi_4may.csv')\n",
    "data1=pd.DataFrame(data['ttext'])\n",
    "df=data['ttext']\n",
    "data1['sentiments']= [get_tweet_sentiment(t)for t in df]\n",
    "n_records = len(data1.index)\n",
    "n_sent_pos = len(data1[data1['sentiments'] == 'positive'])\n",
    "n_sent_neg = len(data1[data1['sentiments'] == 'negative'])\n",
    "n_sent_neu = len(data1[data1['sentiments'] == 'neutral'])\n",
    "print(\"DELHI total records: \",n_records)\n",
    "print(\"DELHI  positive: \",n_sent_pos)\n",
    "print(\"DELHI negative: \",n_sent_neg)\n",
    "print(\"DELHI neutral: \",n_sent_neu)\n"
   ]
  },
  {
   "cell_type": "code",
   "execution_count": 14,
   "metadata": {},
   "outputs": [
    {
     "name": "stdout",
     "output_type": "stream",
     "text": [
      "MUMBAI total records:  113\n",
      "MUMBAI  positive:  41\n",
      "MUMBAI negative:  14\n",
      "MUMBAI neutral:  58\n"
     ]
    },
    {
     "data": {
      "text/plain": [
       "<matplotlib.axes._subplots.AxesSubplot at 0x25a3d0d3c08>"
      ]
     },
     "execution_count": 14,
     "metadata": {},
     "output_type": "execute_result"
    },
    {
     "data": {
      "image/png": "[encoded data removed]",
      "text/plain": [
       "<Figure size 432x288 with 1 Axes>"
      ]
     },
     "metadata": {
      "needs_background": "light"
     },
     "output_type": "display_data"
    }
   ],
   "source": [
    "data=pd.read_csv('mumbai_4_May.csv')\n",
    "data1=pd.DataFrame(data['ttext'])\n",
    "df=data['ttext']\n",
    "data1['sentiments']= [get_tweet_sentiment(t)for t in df]\n",
    "n_records = len(data1.index)\n",
    "n_sent_pos = len(data1[data1['sentiments'] == 'positive'])\n",
    "n_sent_neg = len(data1[data1['sentiments'] == 'negative'])\n",
    "n_sent_neu = len(data1[data1['sentiments'] == 'neutral'])\n",
    "print(\"MUMBAI total records: \",n_records)\n",
    "print(\"MUMBAI  positive: \",n_sent_pos)\n",
    "print(\"MUMBAI negative: \",n_sent_neg)\n",
    "print(\"MUMBAI neutral: \",n_sent_neu)\n",
    "sns.countplot(x='sentiments', data=data1)"
   ]
  },
  {
   "cell_type": "code",
   "execution_count": 15,
   "metadata": {},
   "outputs": [
    {
     "name": "stdout",
     "output_type": "stream",
     "text": [
      "BANGALORE total records:  113\n",
      "BANGALORE  positive:  41\n",
      "BANGALORE negative:  14\n",
      "BANGALORE neutral:  58\n"
     ]
    },
    {
     "data": {
      "text/plain": [
       "<matplotlib.axes._subplots.AxesSubplot at 0x25a3cda0588>"
      ]
     },
     "execution_count": 15,
     "metadata": {},
     "output_type": "execute_result"
    },
    {
     "data": {
      "image/png": "[encoded data removed]",
      "text/plain": [
       "<Figure size 432x288 with 1 Axes>"
      ]
     },
     "metadata": {
      "needs_background": "light"
     },
     "output_type": "display_data"
    }
   ],
   "source": [
    "data=pd.read_csv('bangalore_4_May.csv')\n",
    "data1=pd.DataFrame(data['ttext'])\n",
    "df=data['ttext']\n",
    "data1['sentiments']= [get_tweet_sentiment(t)for t in df]\n",
    "n_records = len(data1.index)\n",
    "n_sent_pos = len(data1[data1['sentiments'] == 'positive'])\n",
    "n_sent_neg = len(data1[data1['sentiments'] == 'negative'])\n",
    "n_sent_neu = len(data1[data1['sentiments'] == 'neutral'])\n",
    "print(\"BANGALORE total records: \",n_records)\n",
    "print(\"BANGALORE  positive: \",n_sent_pos)\n",
    "print(\"BANGALORE negative: \",n_sent_neg)\n",
    "print(\"BANGALORE neutral: \",n_sent_neu)\n",
    "sns.countplot(x='sentiments', data=data1)"
   ]
  },
  {
   "cell_type": "code",
   "execution_count": 16,
   "metadata": {},
   "outputs": [
    {
     "name": "stdout",
     "output_type": "stream",
     "text": [
      "KERALA total records:  15\n",
      "KERALA  positive:  5\n",
      "KERALA negative:  1\n",
      "KERALA neutral:  9\n"
     ]
    },
    {
     "data": {
      "text/plain": [
       "<matplotlib.axes._subplots.AxesSubplot at 0x25a3d0a4748>"
      ]
     },
     "execution_count": 16,
     "metadata": {},
     "output_type": "execute_result"
    },
    {
     "data": {
      "image/png": "[encoded data removed]",
      "text/plain": [
       "<Figure size 432x288 with 1 Axes>"
      ]
     },
     "metadata": {
      "needs_background": "light"
     },
     "output_type": "display_data"
    }
   ],
   "source": [
    "data=pd.read_csv('Kerala_4_May.csv')\n",
    "data1=pd.DataFrame(data['ttext'])\n",
    "df=data['ttext']\n",
    "data1['sentiments']= [get_tweet_sentiment(t)for t in df]\n",
    "n_records = len(data1.index)\n",
    "n_sent_pos = len(data1[data1['sentiments'] == 'positive'])\n",
    "n_sent_neg = len(data1[data1['sentiments'] == 'negative'])\n",
    "n_sent_neu = len(data1[data1['sentiments'] == 'neutral'])\n",
    "print(\"KERALA total records: \",n_records)\n",
    "print(\"KERALA  positive: \",n_sent_pos)\n",
    "print(\"KERALA negative: \",n_sent_neg)\n",
    "print(\"KERALA neutral: \",n_sent_neu)\n",
    "sns.countplot(x='sentiments', data=data1)"
   ]
  },
  {
   "cell_type": "code",
   "execution_count": 17,
   "metadata": {},
   "outputs": [
    {
     "name": "stdout",
     "output_type": "stream",
     "text": [
      "Haryana total records:  131\n",
      "Haryana positive:  43\n",
      "Haryana negative:  35\n",
      "Haryana neutral:  53\n"
     ]
    },
    {
     "data": {
      "text/plain": [
       "<matplotlib.axes._subplots.AxesSubplot at 0x25a3d089b88>"
      ]
     },
     "execution_count": 17,
     "metadata": {},
     "output_type": "execute_result"
    },
    {
     "data": {
      "image/png": "[encoded data removed]",
      "text/plain": [
       "<Figure size 432x288 with 1 Axes>"
      ]
     },
     "metadata": {
      "needs_background": "light"
     },
     "output_type": "display_data"
    }
   ],
   "source": [
    "data=pd.read_csv('haryana_4_May.csv')\n",
    "data1=pd.DataFrame(data['ttext'])\n",
    "df=data['ttext']\n",
    "data1['sentiments']= [get_tweet_sentiment(t)for t in df]\n",
    "n_records = len(data1.index)\n",
    "n_sent_pos = len(data1[data1['sentiments'] == 'positive'])\n",
    "n_sent_neg = len(data1[data1['sentiments'] == 'negative'])\n",
    "n_sent_neu = len(data1[data1['sentiments'] == 'neutral'])\n",
    "print(\"Haryana total records: \",n_records)\n",
    "print(\"Haryana positive: \",n_sent_pos)\n",
    "print(\"Haryana negative: \",n_sent_neg)\n",
    "print(\"Haryana neutral: \",n_sent_neu)\n",
    "sns.countplot(x='sentiments', data=data1)"
   ]
  },
  {
   "cell_type": "code",
   "execution_count": 18,
   "metadata": {},
   "outputs": [
    {
     "name": "stdout",
     "output_type": "stream",
     "text": [
      "Uttar Pradesh total records:  7\n",
      "Uttar Pradesh  positive:  6\n",
      "Uttar Pradesh negative:  0\n",
      "Uttar Pradesh neutral:  1\n"
     ]
    },
    {
     "data": {
      "text/plain": [
       "<matplotlib.axes._subplots.AxesSubplot at 0x25a4aa12808>"
      ]
     },
     "execution_count": 18,
     "metadata": {},
     "output_type": "execute_result"
    },
    {
     "data": {
      "image/png": "[encoded data removed]",
      "text/plain": [
       "<Figure size 432x288 with 1 Axes>"
      ]
     },
     "metadata": {
      "needs_background": "light"
     },
     "output_type": "display_data"
    }
   ],
   "source": [
    "data=pd.read_csv('uttarpradesh_4_May.csv')\n",
    "data1=pd.DataFrame(data['ttext'])\n",
    "df=data['ttext']\n",
    "data1['sentiments']= [get_tweet_sentiment(t)for t in df]\n",
    "n_records = len(data1.index)\n",
    "n_sent_pos = len(data1[data1['sentiments'] == 'positive'])\n",
    "n_sent_neg = len(data1[data1['sentiments'] == 'negative'])\n",
    "n_sent_neu = len(data1[data1['sentiments'] == 'neutral'])\n",
    "print(\"Uttar Pradesh total records: \",n_records)\n",
    "print(\"Uttar Pradesh  positive: \",n_sent_pos)\n",
    "print(\"Uttar Pradesh negative: \",n_sent_neg)\n",
    "print(\"Uttar Pradesh neutral: \",n_sent_neu)\n",
    "sns.countplot(x='sentiments', data=data1)"
   ]
  },
  {
   "cell_type": "code",
   "execution_count": null,
   "metadata": {},
   "outputs": [],
   "source": []
  },
  {
   "cell_type": "code",
   "execution_count": null,
   "metadata": {},
   "outputs": [],
   "source": []
  }
 ],
 "metadata": {
  "kernelspec": {
   "display_name": "Python 3",
   "language": "python",
   "name": "python3"
  },
  "language_info": {
   "codemirror_mode": {
    "name": "ipython",
    "version": 3
   },
   "file_extension": ".py",
   "mimetype": "text/x-python",
   "name": "python",
   "nbconvert_exporter": "python",
   "pygments_lexer": "ipython3",
   "version": "3.7.4"
  }
 },
 "nbformat": 4,
 "nbformat_minor": 2
}
